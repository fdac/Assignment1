{
 "metadata": {
  "name": ""
 },
 "nbformat": 3,
 "nbformat_minor": 0,
 "worksheets": [
  {
   "cells": [
    {
     "cell_type": "markdown",
     "metadata": {},
     "source": [
      "#Example 1. Dictionaries in python (associative arrays)\n",
      "\n",
      "Plot frequency distribution of words on a web page."
     ]
    },
    {
     "cell_type": "code",
     "collapsed": false,
     "input": [
      "import requests, re\n",
      "r = requests .get('http://eecs.utk.edu')\n",
      "t = r.text\n",
      "wds = re.split('\\s+',t)\n",
      "fw = {}\n",
      "for w in wds:\n",
      "    if w in fw: fw [w] = fw [w] + 1\n",
      "    else:  fw[w] = 1\n",
      "fws = sorted (fw, key=fw.__getitem__,reverse=True)\n",
      "ml = min(len(fws),15)\n",
      "for i in range(1,ml,1):\n",
      "    print fws[i]+\";\"+str(fw[fws[i]])   "
     ],
     "language": "python",
     "metadata": {},
     "outputs": [
      {
       "output_type": "stream",
       "stream": "stdout",
       "text": [
        "<div;52\n",
        "</div>;38\n",
        "of;30\n",
        "and;21\n",
        "the;21\n",
        "<a;17\n",
        "</ul>;16\n",
        "Computer;16\n",
        "=;14\n",
        "</li>;14\n",
        "Engineering;14\n",
        "in;11\n",
        "var;11\n",
        "a;10\n"
       ]
      }
     ],
     "prompt_number": 36
    },
    {
     "cell_type": "markdown",
     "metadata": {},
     "source": [
      "#Example 2\n",
      "##Lots of markup in the output, lets remove it\n",
      "\n",
      "Use BeautifulSoup and nltk modules to do that"
     ]
    },
    {
     "cell_type": "code",
     "collapsed": false,
     "input": [
      "import requests, re, nltk\n",
      "from BeautifulSoup import BeautifulStoneSoup\n",
      "nltk.download('stopwords')\n",
      "stop_words = nltk.corpus.stopwords.words('english') + [\n",
      "    'ut','.',',','--','\\'s','?',')','(',':','\\'','\\'re','\"','-','}','{','&','|',u'\u2014',\n",
      "    ]\n",
      "\n",
      "def cleanHtml(html):\n",
      "    return BeautifulStoneSoup(clean_html(html),\n",
      "                convertEntities=BeautifulStoneSoup.HTML_ENTITIES).contents[0]\n",
      "def print_wf (URL):\n",
      "    print '======'\n",
      "    print URL\n",
      "    print '======'\n",
      "    r = requests .get(URL)\n",
      "    t = cleanHtml(r.text).lower()\n",
      "    wds = re.split('\\s+',t)\n",
      "    fw = {}\n",
      "    for w in wds:\n",
      "        if w in stop_words: continue\n",
      "        if w in fw: fw [w] = fw [w] + 1\n",
      "        else:  fw[w] = 1\n",
      "    fws = sorted (fw, key=fw.__getitem__,reverse=True)\n",
      "    ml = min(len(fws),15)\n",
      "    for i in range(1,ml,1):\n",
      "        print fws[i]+\";\"+str(fw[fws[i]])\n",
      "        \n",
      "print_wf('http://eecs.utk.edu')\n",
      "print_wf('http://bus.utk.edu')\n"
     ],
     "language": "python",
     "metadata": {},
     "outputs": [
      {
       "output_type": "stream",
       "stream": "stdout",
       "text": [
        "[nltk_data] Downloading package 'stopwords' to\n",
        "[nltk_data]     /home/audris/nltk_data...\n",
        "[nltk_data]   Package stopwords is already up-to-date!\n",
        "======\n",
        "http://eecs.utk.edu\n",
        "======\n",
        "computer;17"
       ]
      },
      {
       "output_type": "stream",
       "stream": "stdout",
       "text": [
        "\n",
        "engineering;15\n",
        "science;10\n",
        "electrical;9\n",
        "department;9\n",
        "directory;9\n",
        "faculty;8\n",
        "college;7\n",
        "building;7\n",
        "university;6\n",
        "min;6\n",
        "kao;6\n",
        "learn;5\n",
        "information;5\n",
        "======\n",
        "http://bus.utk.edu\n",
        "======\n",
        "business;6"
       ]
      },
      {
       "output_type": "stream",
       "stream": "stdout",
       "text": [
        "\n",
        "academic;6\n",
        "university;5\n",
        "management;5\n",
        "calendar;4\n",
        "programs;4\n",
        "information;4\n",
        "chain;3\n",
        "rankings;3\n",
        "event;3\n",
        "supply;3\n",
        "give;3\n",
        "tennessee,;3\n",
        "publications;3\n"
       ]
      }
     ],
     "prompt_number": 10
    },
    {
     "cell_type": "code",
     "collapsed": false,
     "input": [
      "import pandas as pd\n",
      "import matplotlib.pyplot as plt\n",
      "from urllib import urlopen\n",
      "pd.set_option('display.max_columns', 15)\n",
      "pd.set_option('display.line_width', 400)\n",
      "pd.set_option('display.mpl_style', 'default')\n",
      "rcParams['figure.figsize'] = (14, 7)\n",
      "file = urlopen('https://raw.githubusercontent.com/vincentarelbundock/Rdatasets/master/csv/ggplot2/diamonds.csv')\n",
      "diamonds = pd.read_csv(file)\n",
      "change = [23.2, 22.7, 19.7, 13.9, 13.1, 12.8, 12.7,\n",
      "        12.6, 12.0, 11.5, 10.8, 10.4, 10.4, 9.8, 9.2,\n",
      "        9.2, 8.8, 7.7, 6.9, 6.9, 6.4, 5.6, 5.3, 5.3, 5.2, 4.9,\n",
      "        4.8, 4.6, 3.6, 3.1, 0.7, -.3, -.7, -1.2, -1.5, -1.7, \n",
      "        -1.7, -1.8, -2, -2.3, -2.4, -3.6, -3.7,\n",
      "        -4.9, -6.5, -6.6, -11.6, -14.8, -17.6, -23.1]\n",
      "city = ['Philadelphia', 'Tucson', 'Kansas City, MO',\n",
      "        'El Paso', 'Portland, Ore.', 'New York', 'Dallas',\n",
      "        'Columbus', 'Mesa', 'Austin', 'Atlanta', 'Fort Worth',\n",
      "        'Miami', 'Houston', 'Chicago', 'Oakland', 'Virginia Beach',\n",
      "        'Baltimore', 'Denver', 'Detroit', 'San Antonio', 'Phoenix',\n",
      "        'Oklahoma City', 'Indianapolis', 'Milwaukee', 'Sacramento',\n",
      "        'Washington, D.C.', 'Colorado Springs', 'Honolulu', 'Nashville',\n",
      "        'Jacksonville', 'Louisville', 'Seattle', \n",
      "        'Memphis', 'Fresno', 'Boston', 'Mineappolis',\n",
      "        'San Jose', 'Tulsa', 'Charlotte', 'San Diego', 'Los Angeles',\n",
      "        'Long Beach', 'Cleveland', 'San Francisco', 'Albuquerque',\n",
      "        'Arlington, TX', 'Omaha', 'Wichita', 'Las Vegas']\n",
      "grad = pd.DataFrame({'change' : change, 'city': city})"
     ],
     "language": "python",
     "metadata": {},
     "outputs": [],
     "prompt_number": 8
    },
    {
     "cell_type": "code",
     "collapsed": false,
     "input": [
      "plt.figure(figsize=(3, 8))\n",
      "change = grad.change[grad.change > 0]\n",
      "city = grad.city[grad.change > 0]\n",
      "pos = np.arange(len(change))\n",
      "plt.title('1995-2005 Change in HS graduation rate')\n",
      "plt.barh(pos, change)\n",
      "\n",
      "#add the numbers to the side of each bar\n",
      "for p, c, ch in zip(pos, city, change):\n",
      "    plt.annotate(str(ch), xy=(ch + 1, p + .5), va='center')\n",
      "\n",
      "#cutomize ticks\n",
      "ticks = plt.yticks(pos + .5, city)\n",
      "xt = plt.xticks()[0]\n",
      "plt.xticks(xt, [' '] * len(xt))\n",
      "\n",
      "#minimize chartjunk\n",
      "#remove_border(left=False, bottom=False)\n",
      "plt.grid(axis = 'x', color ='white', linestyle='-')\n",
      "\n",
      "#set plot limits\n",
      "plt.ylim(pos.max() + 1, pos.min() - 1)\n",
      "plt.xlim(0, 30)"
     ],
     "language": "python",
     "metadata": {},
     "outputs": [
      {
       "metadata": {},
       "output_type": "pyout",
       "prompt_number": 10,
       "text": [
        "(0, 30)"
       ]
      },
      {
       "metadata": {},
       "output_type": "display_data",
       "png": "[encoded data removed]",
       "text": [
        "<matplotlib.figure.Figure at 0x7f652f308d10>"
       ]
      }
     ],
     "prompt_number": 10
    },
    {
     "cell_type": "code",
     "collapsed": false,
     "input": [],
     "language": "python",
     "metadata": {},
     "outputs": []
    }
   ],
   "metadata": {}
  }
 ]
}