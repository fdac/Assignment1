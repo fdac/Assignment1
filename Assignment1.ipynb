{
 "metadata": {
  "name": ""
 },
 "nbformat": 3,
 "nbformat_minor": 0,
 "worksheets": [
  {
   "cells": [
    {
     "cell_type": "markdown",
     "metadata": {},
     "source": [
      "#Example 1. Dictionaries in python (associative arrays)\n",
      "\n",
      "Plot frequency distribution of words on a web page."
     ]
    },
    {
     "cell_type": "code",
     "collapsed": false,
     "input": [
      "import requests, re\n",
      "r = requests .get('http://eecs.utk.edu')\n",
      "t = r.text\n",
      "wds = re.split('\\s+',t)\n",
      "fw = {}\n",
      "for w in wds:\n",
      "    if w in fw: fw [w] = fw [w] + 1\n",
      "    else:  fw[w] = 1\n",
      "fws = sorted (fw, key=fw.__getitem__,reverse=True)\n",
      "ml = min(len(fws),15)\n",
      "for i in range(1,ml,1):\n",
      "    print fws[i]+\";\"+str(fw[fws[i]])   "
     ],
     "language": "python",
     "metadata": {},
     "outputs": [],
     "prompt_number": 1
    },
    {
     "cell_type": "markdown",
     "metadata": {},
     "source": [
      "#Example 2\n",
      "##Lots of markup in the output, lets remove it\n",
      "\n",
      "Use BeautifulSoup and nltk modules to do that"
     ]
    },
    {
     "cell_type": "code",
     "collapsed": false,
     "input": [
      "import requests, re, nltk\n",
      "from BeautifulSoup import BeautifulStoneSoup\n",
      "from nltk import clean_html\n",
      "from collections import Counter\n",
      "import operator\n",
      "nltk .download ('stopwords')\n",
      "stop_words = nltk.corpus.stopwords.words('english') + [\n",
      " 'ut', '\\'re','.', ',', '--', '\\'s', '?', ')', '(', ':', '\\'',\n",
      " '\\\"', '-', '}', '{', '&', '|', u'\\u2014' ]\n",
      "\n",
      "# a function to help with removing markup\n",
      "def cleanHtml (html):\n",
      "    return BeautifulStoneSoup(clean_html(html),\n",
      "                convertEntities=BeautifulStoneSoup.HTML_ENTITIES).contents[0]\n",
      "\n",
      "# get text/clean/calculate frequency\n",
      "def get_wf (URL):\n",
      "    r = requests .get(URL)\n",
      "    t = cleanHtml (r .text) .lower()\n",
      "    # separate string into words using any sequence of spaces \"\\s+\" \n",
      "    wds = re .split('\\s+',t)\n",
      "    fw = Counter (wds)\n",
      "    for k in stop_words:\n",
      "        fw. pop(k, None)\n",
      "    fws = sorted (fw .iteritems(), key = operator.itemgetter(1), reverse=True)\n",
      "    ml = min(len(fws),15)\n",
      "    #reverse because barh plots from the bottom\n",
      "    return fws [ 1:ml ] [::-1]\n",
      "        \n",
      "fw_ee = get_wf('http://eecs.utk.edu')\n",
      "fw_bu = get_wf('http://bus.utk.edu')"
     ],
     "language": "python",
     "metadata": {},
     "outputs": [],
     "prompt_number": 1
    },
    {
     "cell_type": "code",
     "collapsed": false,
     "input": [
      "#now do some plotting of the results: are there striking differences in language?\n",
      "import numpy as np\n",
      "import pylab\n",
      "import matplotlib.pyplot as plt\n",
      "\n",
      "%matplotlib inline\n",
      "f = plt.figure (figsize=(8, 6))\n",
      "# this is painfully tedious....\n",
      "f.suptitle('Most Frequent Words From Two Departments', fontsize=20)\n",
      "ax = f.add_subplot(111)\n",
      "ax.spines['top'].set_color('none')\n",
      "ax.spines['bottom'].set_color('none')\n",
      "ax.spines['left'].set_color('none')\n",
      "ax.spines['right'].set_color('none')\n",
      "ax.tick_params(labelcolor='w', top='off', bottom='off', left='off', right='off', labelsize=20)\n",
      "\n",
      "ax1 = f.add_subplot(121)\n",
      "plt.subplots_adjust(wspace=1)\n",
      "\n",
      "#f.subplot(121)\n",
      "pos = np .arange(len(fw_ee)+1) \n",
      "ax1.tick_params(axis='both', which='major', labelsize=14)\n",
      "pylab.yticks(pos, [ x [0] for x in fw_ee ])\n",
      "ax1.barh (range(len(fw_ee)), [ x [1] for x in fw_ee ], align='center')\n",
      "\n",
      "ax2 = f.add_subplot(122)\n",
      "ax2.tick_params(axis='both', which='major', labelsize=14)\n",
      "pos = np .arange(len(fw_bu)+1) \n",
      "pylab.yticks(pos, [ x [0] for x in fw_bu ])\n",
      "ax2.barh (range(len(fw_bu)), [ x [1] for x in fw_bu ], align='center')"
     ],
     "language": "python",
     "metadata": {},
     "outputs": []
    },
    {
     "cell_type": "code",
     "collapsed": false,
     "input": [
      "# Compare word frequencies for the "
     ],
     "language": "python",
     "metadata": {},
     "outputs": []
    }
   ],
   "metadata": {}
  }
 ]
}