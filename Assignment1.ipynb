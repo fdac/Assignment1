{
 "metadata": {
  "name": ""
 },
 "nbformat": 3,
 "nbformat_minor": 0,
 "worksheets": [
  {
   "cells": [
    {
     "cell_type": "markdown",
     "metadata": {},
     "source": [
      "#Example 1. Dictionaries in python (associative arrays)\n",
      "\n",
      "Plot frequency distribution of words on a web page."
     ]
    },
    {
     "cell_type": "code",
     "collapsed": false,
     "input": [
      "import requests, re\n",
      "r = requests .get('http://eecs.utk.edu')\n",
      "t = r.text\n",
      "wds = re.split('\\s+',t)\n",
      "fw = {}\n",
      "for w in wds:\n",
      "    if w in fw: fw [w] = fw [w] + 1\n",
      "    else:  fw[w] = 1\n",
      "fws = sorted (fw, key=fw.__getitem__,reverse=True)\n",
      "ml = min(len(fws),15)\n",
      "for i in range(1,ml,1):\n",
      "    print fws[i]+\";\"+str(fw[fws[i]])   "
     ],
     "language": "python",
     "metadata": {},
     "outputs": [
      {
       "output_type": "stream",
       "stream": "stdout",
       "text": [
        "<div;52\n",
        "</div>;38\n",
        "of;30\n",
        "and;21\n",
        "the;21\n",
        "<a;17\n",
        "</ul>;16\n",
        "Computer;16\n",
        "=;14\n",
        "</li>;14\n",
        "Engineering;14\n",
        "in;11\n",
        "var;11\n",
        "a;10\n"
       ]
      }
     ],
     "prompt_number": 36
    },
    {
     "cell_type": "markdown",
     "metadata": {},
     "source": [
      "#Example 2\n",
      "##Lots of markup in the output, lets remove it\n",
      "\n",
      "Use BeautifulSoup and nltk modules to do that"
     ]
    },
    {
     "cell_type": "code",
     "collapsed": false,
     "input": [
      "import requests, re, nltk\n",
      "from BeautifulSoup import BeautifulStoneSoup\n",
      "nltk.download('stopwords')\n",
      "stop_words = nltk.corpus.stopwords.words('english') + [\n",
      "    'ut','.',',','--','\\'s','?',')','(',':','\\'','\\'re','\"','-','}','{','&','|',u'\u2014',\n",
      "    ]\n",
      "\n",
      "def cleanHtml(html):\n",
      "    return BeautifulStoneSoup(clean_html(html),\n",
      "                convertEntities=BeautifulStoneSoup.HTML_ENTITIES).contents[0]\n",
      "def print_wf (URL):\n",
      "    print '======'\n",
      "    print URL\n",
      "    print '======'\n",
      "    r = requests .get(URL)\n",
      "    t = cleanHtml(r.text).lower()\n",
      "    wds = re.split('\\s+',t)\n",
      "    fw = {}\n",
      "    for w in wds:\n",
      "        if w in stop_words: continue\n",
      "        if w in fw: fw [w] = fw [w] + 1\n",
      "        else:  fw[w] = 1\n",
      "    fws = sorted (fw, key=fw.__getitem__,reverse=True)\n",
      "    ml = min(len(fws),15)\n",
      "    for i in range(1,ml,1):\n",
      "        print fws[i]+\";\"+str(fw[fws[i]])\n",
      "        \n",
      "print_wf('http://eecs.utk.edu')\n",
      "print_wf('http://bus.utk.edu')\n"
     ],
     "language": "python",
     "metadata": {},
     "outputs": [
      {
       "output_type": "stream",
       "stream": "stdout",
       "text": [
        "[nltk_data] Downloading package 'stopwords' to\n",
        "[nltk_data]     /home/audris/nltk_data...\n",
        "[nltk_data]   Package stopwords is already up-to-date!\n",
        "======\n",
        "http://eecs.utk.edu\n",
        "======\n",
        "computer;17"
       ]
      },
      {
       "output_type": "stream",
       "stream": "stdout",
       "text": [
        "\n",
        "engineering;15\n",
        "science;10\n",
        "electrical;9\n",
        "department;9\n",
        "directory;9\n",
        "faculty;8\n",
        "college;7\n",
        "building;7\n",
        "university;6\n",
        "min;6\n",
        "kao;6\n",
        "learn;5\n",
        "information;5\n",
        "======\n",
        "http://bus.utk.edu\n",
        "======\n",
        "business;6"
       ]
      },
      {
       "output_type": "stream",
       "stream": "stdout",
       "text": [
        "\n",
        "academic;6\n",
        "university;5\n",
        "management;5\n",
        "calendar;4\n",
        "programs;4\n",
        "information;4\n",
        "chain;3\n",
        "rankings;3\n",
        "event;3\n",
        "supply;3\n",
        "give;3\n",
        "tennessee,;3\n",
        "publications;3\n"
       ]
      }
     ],
     "prompt_number": 10
    },
    {
     "cell_type": "code",
     "collapsed": false,
     "input": [],
     "language": "python",
     "metadata": {},
     "outputs": [],
     "prompt_number": 47
    },
    {
     "cell_type": "code",
     "collapsed": false,
     "input": [],
     "language": "python",
     "metadata": {},
     "outputs": []
    }
   ],
   "metadata": {}
  }
 ]
}