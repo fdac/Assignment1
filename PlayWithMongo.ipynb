{
 "metadata": {
  "name": "",
  "signature": "sha256:2e515b1a5c7c2035b7f6a085a0235415ba4461ee57ac392f7a683f341bdd6c56"
 },
 "nbformat": 3,
 "nbformat_minor": 0,
 "worksheets": [
  {
   "cells": [
    {
     "cell_type": "markdown",
     "metadata": {},
     "source": [
      "## An Example (project gutenberg) of how to import into MongoDB from disk\n",
      "\n",
      "This takes a while to import: assumes file output to contain pathnames to ebook zip files"
     ]
    },
    {
     "cell_type": "code",
     "collapsed": false,
     "input": [
      "import re\n",
      "import pymongo, json\n",
      "import envoy\n",
      "\n",
      "#client = pymongo.MongoClient (host=\"ec2-54-164-167-251.compute-1.amazonaws.com\")\n",
      "client = pymongo.MongoClient (host=\"da0.eecs.utk.edu\")\n",
      "\n",
      "# Get a reference to a particular database\n",
      "db = client ['gutenberg']\n",
      "# Reference a particular collection in the database\n",
      "coll = db ['books']\n",
      "f = open ('output')\n",
      "no = re .compile ('^no ')\n",
      "\n",
      "bad = {}\n",
      "print \"here\"\n",
      "for line in f:\n",
      "    (path, eid, name) = re.split (';',line)\n",
      "    if (not no .match (path)):\n",
      "        r = envoy .run (\"unzip -c \" + path)\n",
      "        txt = re.sub ('\\n', ' ', r.std_out)\n",
      "        ll = len (txt)\n",
      "        sll = str (ll)\n",
      "        check = { 'ebook': eid, \n",
      "                'path': path,\n",
      "                'name': name.decode('utf-8', 'ignore'),\n",
      "                'text': txt.decode('utf-8', 'ignore') }   \n",
      "        if (ll > 16000000):\n",
      "            bad [eid] = path\n",
      "            print path + \" too long:\" + sll\n",
      "        else:\n",
      "            coll.insert (check)  \n",
      "print \"done\""
     ],
     "language": "python",
     "metadata": {},
     "outputs": []
    },
    {
     "cell_type": "markdown",
     "metadata": {},
     "source": [
      "#Now the database is filled \n",
      "Can go ahead and play"
     ]
    },
    {
     "cell_type": "code",
     "collapsed": false,
     "input": [
      "import re\n",
      "import pymongo, json\n",
      "import envoy\n",
      "\n",
      "#this database is in on aws \n",
      "#client = pymongo.MongoClient (host=\"ec2-54-164-167-251.compute-1.amazonaws.com\")\n",
      "#this is local\n",
      "client = pymongo.MongoClient (host=\"da0.eecs.utk.edu\")\n",
      "db = client ['gutenberg']\n",
      "# Reference a particular collection in the database\n",
      "coll = db ['books']\n",
      "\n",
      "#print names of all the books by harry collingwood\n",
      "findHarry = re.compile(\"harry collingwood\", re.IGNORECASE)\n",
      "cursor = coll.find( { 'name' :findHarry }, { 'name': 1 } )\n",
      "for result in cursor:\n",
      "    print result"
     ],
     "language": "python",
     "metadata": {},
     "outputs": [
      {
       "output_type": "stream",
       "stream": "stdout",
       "text": [
        "Collection(Database(MongoClient('da0.eecs.utk.edu', 27017), u'gutenberg'), u'books')\n",
        "{u'_id': ObjectId('542408f0986b4c1d062c3ecd'), u'name': u'The Log of the Flying Fish, by Harry Collingwood : [Subtitle: A Story of Aerial and Submarine Peril and Adventure]: [Illus.: Gordon Browne]\\n'}"
       ]
      },
      {
       "output_type": "stream",
       "stream": "stdout",
       "text": [
        "\n",
        "{u'_id': ObjectId('54240917986b4c1d062c4044'), u'name': u'Through Veld and Forest, by Harry Collingwood : [Subtitle: An African Story]: [Illus.: Arch. Webb]\\n'}\n",
        "{u'_id': ObjectId('54240944986b4c1d062c41f4'), u'name': u'Under the Ensign of the Rising Sun, by Harry Collingwood : [Subtitle: A Story of the Russo-Japanese War]: [Illustrator: Savile Lumley]\\n'}\n",
        "{u'_id': ObjectId('54240969986b4c1d062c4366'), u'name': u'For Treasure Bound, by Harry Collingwood\\n'}\n",
        "{u'_id': ObjectId('54240997986b4c1d062c4523'), u'name': u'A Pirate of the Caribbees, by Harry Collingwood : [Illus.: C.J. de Lacy]\\n'}\n",
        "{u'_id': ObjectId('54240ac7986b4c6fc913c3bd'), u'name': u'The Log of the Flying Fish, by Harry Collingwood : [Subtitle: A Story of Aerial and Submarine Peril and Adventure]: [Illus.: Gordon Browne]\\n'}\n",
        "{u'_id': ObjectId('54240af5986b4c6fc913c534'), u'name': u'Through Veld and Forest, by Harry Collingwood : [Subtitle: An African Story]: [Illus.: Arch. Webb]\\n'}\n",
        "{u'_id': ObjectId('54240b2b986b4c6fc913c6e4'), u'name': u'Under the Ensign of the Rising Sun, by Harry Collingwood : [Subtitle: A Story of the Russo-Japanese War]: [Illustrator: Savile Lumley]\\n'}\n",
        "{u'_id': ObjectId('54240b54986b4c6fc913c856'), u'name': u'For Treasure Bound, by Harry Collingwood\\n'}\n",
        "{u'_id': ObjectId('54240b8d986b4c6fc913ca13'), u'name': u'A Pirate of the Caribbees, by Harry Collingwood : [Illus.: C.J. de Lacy]\\n'}\n",
        "{u'_id': ObjectId('54240cac986b4c6fc913d3f5'), u'name': u\"Dick Leslie's Luck, by Harry Collingwood : [Subtitle: A Story of Shipwreck and Adventure]: [Illustrator: Harold Piffard]\\n\"}\n",
        "{u'_id': ObjectId('54240d64986b4c6fc913da5a'), u'name': u'Two Gallant Sons of Devon, by Harry Collingwood : [Subtitle: A Tale of the Days of Queen Bess]: [Illus.: Edward S. Hodgson]\\n'}\n",
        "{u'_id': ObjectId('54240dc2986b4c6fc913dd3f'), u'name': u'A Middy of the Slave Squadron, by Harry Collingwood : [Subtitle: A West African Story]: [Illus.: D.L. Mays]\\n'}\n",
        "{u'_id': ObjectId('54240dc5986b4c6fc913dd56'), u'name': u'A Middy of the King, by Harry Collingwood : [Subtitle: A Romance of the Old British Navy]: [Illustrator: Edward S. Hodgson]\\n'}\n",
        "{u'_id': ObjectId('54240dfb986b4c6fc913dec6'), u'name': u'The Missing Merchantman, by Harry Collingwood : [Illus.: W.H. Overend]\\n'}\n",
        "{u'_id': ObjectId('54240ed9986b4c6fc913e5d0'), u'name': u'A Middy in Command, by Harry Collingwood : [Subtitle: A Tale of the Slave Squadron] [Illus.: Edward S. Hodgson]\\n'}\n",
        "{u'_id': ObjectId('54240f0b986b4c6fc913e734'), u'name': u'The First Mate, by Harry Collingwood : [Subtitle: The Story of a Strange Cruise]: [Illustrator: E.S. Hodgson]\\n'}\n",
        "{u'_id': ObjectId('54240f59986b4c6fc913ea00'), u'name': u'A Chinese Command, by Harry Collingwood : [Subtitle: A Story of Adventure in Eastern Seas] [Illus.: Arch. Webb]\\n'}\n",
        "{u'_id': ObjectId('54241047986b4c6fc913f1f9'), u'name': u\"The Rover's Secret, by Harry Collingwood : [Subtitle: A Tale of the Pirate Cays and Lagoons of Cuba]: [Illus.: W. Christian Symons]\\n\"}\n",
        "{u'_id': ObjectId('542410a3986b4c6fc913f4de'), u'name': u'Across the Spanish Main, by Harry Collingwood : [Subtitle: A Tale of the Sea in the Days of Queen Bess]: [Illustrator: William Rainey]\\n'}\n",
        "{u'_id': ObjectId('542410d9986b4c6fc913f6b7'), u'name': u'The Adventures of Dick Maitland, by Harry Collingwood : [Subtitle: A Tale of Unknown Africa] [Illus.: Alec Ball]\\n'}\n",
        "{u'_id': ObjectId('54241114986b4c6fc913f8a0'), u'name': u'The Pirate Island, by Harry Collingwood : [Subtitle: A Story of the South Pacific]: [Illus.: C.J. Staniland and J.R. Wells]\\n'}\n",
        "{u'_id': ObjectId('5424123a986b4c6fc91402b4'), u'name': u'Harry Escombe, by Harry Collingwood : [Subtitle: A Tale of Adventure in Peru]: [Illus.: Victor Prout]\\n'}\n",
        "{u'_id': ObjectId('54241490986b4c6fc9141635'), u'name': u'The Log of a Privateersman, by Harry Collingwood : [Illus.: W. Rainey]\\n'}\n",
        "{u'_id': ObjectId('542414d2986b4c6fc9141870'), u'name': u'The Congo Rovers, by Harry Collingwood : [Subtitle: A Story of the Slave Squadron] [Illus.: J. Schonberg]\\n'}\n",
        "{u'_id': ObjectId('54241538986b4c6fc9141bda'), u'name': u'The Cruise of the \"Esmeralda\", by Harry Collingwood : [Illustrator: W.H. Overend]\\n'}\n",
        "{u'_id': ObjectId('542415b5986b4c6fc9141ff1'), u'name': u'Under the Meteor Flag, by Harry Collingwood : [Subtitle: Log of a Midshipman during the French Revolutionary War]: [Illus.: MLR]\\n'}\n",
        "{u'_id': ObjectId('5424161e986b4c6fc9142376'), u'name': u'The Voyage of the Aurora, by Harry Collingwood\\n'}\n",
        "{u'_id': ObjectId('54241728986b4c6fc9142c49'), u'name': u'The Cruise of the Thetis, by Harry Collingwood : [Subtitle: A Tale of the Cuban Insurrection]: [Illus.: Cyrus Cuneo]\\n'}\n",
        "{u'_id': ObjectId('542417ad986b4c6fc91430a9'), u'name': u'Turned Adrift, by Harry Collingwood : [Illustrator: Edward S. Hodgson]\\n'}\n",
        "{u'_id': ObjectId('542417d4986b4c6fc91431f5'), u'name': u'The Pirate Slaver, by Harry Collingwood : [Subtitle: A Story of the West African Coast]: [Illustrator: W.H. Overend]\\n'}\n",
        "{u'_id': ObjectId('54241800986b4c6fc9143360'), u'name': u'Overdue, by Harry Collingwood : [Subtitle: The Story of a Missing Ship]: [Illus.: W. Herbert Holloway]\\n'}\n",
        "{u'_id': ObjectId('54241812986b4c6fc9143412'), u'name': u'In Search of El Dorado, by Harry Collingwood\\n'}\n",
        "{u'_id': ObjectId('5424183a986b4c6fc9143555'), u'name': u'The Cruise of the Nonsuch Buccaneer, by Harry Collingwood : [Illus.: John Williamson]\\n'}\n",
        "{u'_id': ObjectId('54241915986b4c6fc9143f89'), u'name': u'The Secret of the Sands, by Harry Collingwood : [Subtitle: The \"Water Lily\" and her Crew]\\n'}\n",
        "{u'_id': ObjectId('542419dd986b4c6fc914460c'), u'name': u'With Airship and Submarine, by Harry Collingwood : [Subtitle: A Tale of Adventure]: [Illustrator: Edward A. Hodgson]\\n'}\n",
        "{u'_id': ObjectId('54241a21986b4c6fc9144845'), u'name': u'The Castaways, by Harry Collingwood : [Illustrator: T.C. Dugdale]\\n'}\n",
        "{u'_id': ObjectId('54241a33986b4c6fc91448ef'), u'name': u'The Strange Adventures of Eric Blackburn, by Harry Collingwood : [Illus.: C.M. Padday, R.O.I.]\\n'}\n",
        "{u'_id': ObjectId('54241a3f986b4c6fc9144960'), u'name': u'Under the Chilian Flag, by Harry Collingwood : [Subtitle: A Tale of War between Chili and Peru] [Illus.: W. Rainey]\\n'}\n"
       ]
      }
     ],
     "prompt_number": 6
    },
    {
     "cell_type": "code",
     "collapsed": false,
     "input": [],
     "language": "python",
     "metadata": {},
     "outputs": []
    }
   ],
   "metadata": {}
  }
 ]
}