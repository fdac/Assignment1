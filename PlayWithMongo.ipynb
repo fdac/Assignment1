{
 "metadata": {
  "name": ""
 },
 "nbformat": 3,
 "nbformat_minor": 0,
 "worksheets": [
  {
   "cells": [
    {
     "cell_type": "code",
     "collapsed": false,
     "input": [
      "import requests, re, nltk\n",
      "from BeautifulSoup import BeautifulStoneSoup\n",
      "from nltk import clean_html\n",
      "from collections import Counter\n",
      "import operator\n",
      "import pymongo, json\n",
      "\n",
      "def saveUrl (URL):\n",
      "    client = pymongo.MongoClient(host=\"localhost\",port=37017)\n",
      "    # Get a reference to a particular database\n",
      "    db = client['Assignment1']\n",
      "    # Reference a particular collection in the database\n",
      "    coll = db['texts']\n",
      "    check = coll.find_one({'url':URL})\n",
      "    if check == None:\n",
      "        r = requests .get(URL)\n",
      "        check = { 'url' : URL, 'text': json.JSONEncoder ().encode (r.text) }\n",
      "        coll.insert( check )\n",
      "    #Unjsonify\n",
      "    return json.JSONDecoder ().decode (check['text'])\n",
      "\n",
      "client = pymongo.MongoClient(host=\"localhost\",port=37017)\n",
      "# Get a reference to a particular database\n",
      "db = client['Assignment1']\n",
      "coll = db['texts']\n",
      "regx = re.compile(\"harry\", re.IGNORECASE)\n",
      "res = coll.find({\"text\": regx})\n",
      "for i in res:\n",
      "    print i['url']"
     ],
     "language": "python",
     "metadata": {},
     "outputs": [
      {
       "output_type": "stream",
       "stream": "stdout",
       "text": [
        "http://www.gutenberg.org/files/8799/8799-h/8799-h.htm\n",
        "http://www.gutenberg.org/files/2701/2701-h/2701-h.htm\n",
        "http://www.gutenberg.org/files/76/76-h/76-h.htm"
       ]
      },
      {
       "output_type": "stream",
       "stream": "stdout",
       "text": [
        "\n",
        "http://www.gutenberg.org/files/245/245-h/245-h.htm\n",
        "http://www.gutenberg.org/files/140/140-h/140-h.htm\n",
        "http://www.gutenberg.org/cache/epub/161/pg161.txt\n",
        "http://www.gutenberg.org/ebooks/76.txt.utf-8\n",
        "http://www.gutenberg.org/ebooks/848.txt.utf-8"
       ]
      },
      {
       "output_type": "stream",
       "stream": "stdout",
       "text": [
        "\n",
        "http://www.gutenberg.org/ebooks/421.txt.utf-8\n",
        "http://www.gutenberg.org/cache/epub/76/pg76.txt\n",
        "http://www.gutenberg.org/files/2199/2199-h/2199-h.htm\n",
        "http://www.gutenberg.org/files/805/805-h/805-h.htm\n",
        "http://www.gutenberg.org/cache/epub/6695/pg6695.html\n",
        "http://www.gutenberg.org/ebooks/161.txt.utf-8\n",
        "https://archive.org/stream/APassageToIndia_109/APassageToIndia_djvu.txt"
       ]
      },
      {
       "output_type": "stream",
       "stream": "stdout",
       "text": [
        "\n",
        "https://archive.org/stream/HarryPotterAndTheSorcerersStone_496/HarryPotterAndTheSorcerersStonebook1_djvu.txt\n",
        "https://archive.org/stream/7HarryPotterAndTheDeathlyHallows7/7%20Harry%20Potter%20and%20the%20Deathly%20Hallows%20-%207_djvu.txt\n",
        "http://www.gutenberg.org/cache/epub/158/pg158.txt\n",
        "http://www.gutenberg.org/files/244/244-h/244-h.htm\n",
        "http://www.gutenberg.org/cache/epub/4300/pg4300.txt\n"
       ]
      }
     ],
     "prompt_number": 5
    },
    {
     "cell_type": "code",
     "collapsed": false,
     "input": [],
     "language": "python",
     "metadata": {},
     "outputs": []
    }
   ],
   "metadata": {}
  }
 ]
}